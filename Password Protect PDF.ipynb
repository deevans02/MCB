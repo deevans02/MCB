{
 "cells": [
  {
   "cell_type": "code",
   "execution_count": 1,
   "metadata": {},
   "outputs": [
    {
     "name": "stdout",
     "output_type": "stream",
     "text": [
      "['012467.pdf', '100298.pdf', '100496.pdf', '101373.pdf', '103032.pdf', '103060.pdf', '103065.pdf', '103074.pdf', '103116.pdf', '103141.pdf', '103142.pdf', '103143.pdf', '103165.pdf', '103599.pdf', '104078.pdf', '104347.pdf', '104592.pdf', '104710.pdf', '104748.pdf', '104933.pdf', '105112.pdf', '105269.pdf', '105411.pdf', '105416.pdf', '105548.pdf', '105554.pdf', '105649.pdf', '105994.pdf', '106127.pdf', '106233.pdf', '106412.pdf', '106446.pdf', '106674.pdf', '106696.pdf', '106698.pdf', '106721.pdf', '106828.pdf', '106864.pdf', '106890.pdf', '106957.pdf', '107007.pdf', '107113.pdf', '107158.pdf', '107177.pdf', '107260.pdf', '107266.pdf', '107332.pdf', '107415.pdf', '107421.pdf', '107431.pdf', '107443.pdf', '107447.pdf', '107482.pdf', '107495.pdf', '107497.pdf', '107505.pdf', '107513.pdf', '107515.pdf', '107543.pdf', '107544.pdf', '107579.pdf', '107583.pdf', '107607.pdf', '107613.pdf', '107631.pdf', '107635.pdf', '107640.pdf']\n"
     ]
    }
   ],
   "source": [
    "## For Chris Baggely make sure to add a leading 0 to ensure the EE code is 6 digits, otherwise the password protection wont work\n",
    "\n",
    "## Code to rename payslips\n",
    "## Input the paths manualy\n",
    "## FileLocation is the path that contains the files\n",
    "## A folder called RenamedFiles will be created on the desktop\n",
    "\n",
    "import PyPDF2, shutil, re, os, pprint, re\n",
    "from pathlib import Path\n",
    "\n",
    "FileLocation = Path.home()/'Documents\\Payslip Renaming\\Origonal Payslips' # Select the target folder\n",
    "NewFileNames = [] # Create an empty list to populate with the desired file names\n",
    "n = 1\n",
    "NewFileName = ''\n",
    "\n",
    "#pprint.pprint(list(FileLocation.glob('*'))) # Loop through the files in the folder\n",
    "Path(Path.home()/'Documents\\Payslip Renaming/Renamed Files').mkdir() # Make the folder to store the files\n",
    "NewFileLocation = Path(Path.home()/'Documents\\Payslip Renaming/Renamed Files') # save the path to this folder\n",
    "\n",
    "for file in list(FileLocation.glob('*')): # Loop through the files in the folder\n",
    "    NewFileName = file.stem # Get the filename\n",
    "    NewFileName = NewFileName.split('_')[1][-6:]  # Split it and get the eecode\n",
    "    if NewFileName +'.pdf' in NewFileNames: # If there is a duplicate value\n",
    "        NewFileName = NewFileName + '_Duplicate_' + str(n) + '.pdf' # Add Duplicate<n>.pdf\n",
    "        n+=1 # Incriment the counter to ensure all filenames are unique\n",
    "        shutil.copy(file,NewFileLocation/NewFileName) # Copy the file to the new location\n",
    "        NewFileNames.append(NewFileName)\n",
    "    else:\n",
    "        NewFileName = NewFileName + '.pdf' # Add .pdf\n",
    "        shutil.copy(file,NewFileLocation/NewFileName) # Copy the file to the new location\n",
    "        NewFileNames.append(NewFileName)\n",
    "print(NewFileNames)"
   ]
  },
  {
   "cell_type": "code",
   "execution_count": 2,
   "metadata": {},
   "outputs": [],
   "source": [
    "import pandas as pd\n",
    "df = pd.read_csv('Passwords.csv') #Passwords.csv should contain a column of ee codes in A and the passwords in B\n",
    "df['EmployeeNumber'] = df['EmployeeNumber'].apply('{:0>6}'.format) # Make sure the ee numbers are all 6 digits long\n",
    "df['DateOfBirth'] = df['DateOfBirth'].apply('{:0>8}'.format) # Make sure passwords are all 8 digits long (Add the leading 0)\n",
    "Passwords = dict(zip(df.EmployeeNumber, df.DateOfBirth)) # Zip the 2 columns into a dictionarry to call later"
   ]
  },
  {
   "cell_type": "code",
   "execution_count": 3,
   "metadata": {
    "scrolled": true
   },
   "outputs": [
    {
     "name": "stderr",
     "output_type": "stream",
     "text": [
      "PdfReadWarning: Xref table not zero-indexed. ID numbers for objects will be corrected. [pdf.py:1736]\n"
     ]
    },
    {
     "name": "stdout",
     "output_type": "stream",
     "text": [
      "[]\n",
      "Done\n"
     ]
    }
   ],
   "source": [
    "Not_Protected = []\n",
    "Paths = list(Path(Path.home()/'Documents\\Payslip Renaming/Renamed Files').glob('*')) # For all the files in the folder\n",
    "for FilePath in Paths: \n",
    "    if FilePath.stem[:6] in Passwords:\n",
    "        FileName = FilePath.name\n",
    "        pdfFile = open(FilePath,'rb')\n",
    "        pdfReader = PyPDF2.PdfFileReader(pdfFile)\n",
    "        pdfWriter = PyPDF2.PdfFileWriter()\n",
    "        for pageNum in range(pdfReader.numPages):\n",
    "            pdfWriter.addPage(pdfReader.getPage(pageNum))\n",
    "        pdfWriter.encrypt('PayrollUK2020',Passwords[FilePath.stem[:6]])\n",
    "        resultPdf = open((FilePath.stem) + '.pdf','wb')\n",
    "        pdfWriter.write(resultPdf)\n",
    "        resultPdf.close()\n",
    "    else:\n",
    "        print(f'{FilePath.name[:6]} does not exist in the passwords')\n",
    "        Not_Protected.append(FilePath.name)\n",
    "print(Not_Protected)\n",
    "print('Done')"
   ]
  },
  {
   "cell_type": "code",
   "execution_count": 8,
   "metadata": {},
   "outputs": [
    {
     "name": "stdout",
     "output_type": "stream",
     "text": [
      "[]\n"
     ]
    }
   ],
   "source": []
  },
  {
   "cell_type": "code",
   "execution_count": 4,
   "metadata": {},
   "outputs": [
    {
     "name": "stdout",
     "output_type": "stream",
     "text": [
      "<class 'pathlib.WindowsPath'>\n"
     ]
    }
   ],
   "source": [
    "import re\n",
    "m = re.compile('\\d\\d\\d\\d\\d\\d')\n",
    "\n",
    "Path(Path.home()/'Documents'/'Payslip Renaming'/'Password Protected').mkdir() # Make the folder to store the password protected files\n",
    "ProtectedLocation = Path(Path.home()/'Documents'/'Payslip Renaming'/'Password Protected') # save the path to this folder\n",
    "\n",
    "print(type(ProtectedLocation))\n",
    "\n",
    "for file in list(Path(Path.home()/'Documents'/'Payslip Renaming').glob('*')):\n",
    "    if bool(m.match(file.name)) == True:\n",
    "        shutil.move(file,ProtectedLocation/file.name)"
   ]
  },
  {
   "cell_type": "code",
   "execution_count": 11,
   "metadata": {},
   "outputs": [
    {
     "name": "stdout",
     "output_type": "stream",
     "text": [
      "The password for 007773 is 04011985\n"
     ]
    }
   ],
   "source": [
    "def Pass_check(eecode):\n",
    "    print(f'The password for {str(eecode)} is {Passwords[str(eecode)]}')\n",
    "Pass_check('007773')"
   ]
  },
  {
   "cell_type": "code",
   "execution_count": 9,
   "metadata": {},
   "outputs": [
    {
     "name": "stdout",
     "output_type": "stream",
     "text": [
      "False\n",
      "True\n",
      "True\n",
      "True\n",
      "True\n",
      "True\n",
      "True\n",
      "True\n",
      "True\n",
      "True\n",
      "True\n",
      "True\n",
      "True\n",
      "True\n",
      "True\n",
      "True\n",
      "True\n",
      "True\n",
      "True\n",
      "True\n",
      "True\n",
      "True\n",
      "False\n",
      "False\n",
      "False\n",
      "False\n"
     ]
    }
   ],
   "source": [
    "import re\n",
    "from pathlib import Path\n",
    "m = re.compile('\\d\\d\\d\\d\\d\\dP*')\n",
    "\n",
    "for file in list(Path(Path.home()/'Documents'/'Payslip Renaming').glob('*')):\n",
    "    if bool(m.match(file.name)) == True:\n",
    "    shutil.move(file,NewFileLocation/NewFileName)"
   ]
  },
  {
   "cell_type": "code",
   "execution_count": 24,
   "metadata": {},
   "outputs": [
    {
     "name": "stdout",
     "output_type": "stream",
     "text": [
      "N Abdooraman Payslip Oct 2019\n"
     ]
    }
   ],
   "source": [
    "##Sample for password protecting a pdf\n",
    "\n",
    "FileName  = 'N Abdooraman Payslip Oct 2019.pdf'\n",
    "FilePath = Path.home()/'documents'/'payslips'/FileName\n",
    "pdfFile = open(FileName,'rb')\n",
    "pdfReader = PyPDF2.PdfFileReader(pdfFile)\n",
    "pdfWriter = PyPDF2.PdfFileWriter()\n",
    "for pageNum in range(pdfReader.numPages):\n",
    "    pdfWriter.addPage(pdfReader.getPage(pageNum))\n",
    "pdfWriter.encrypt('Master','User')\n",
    "print(FilePath.stem)\n",
    "resultPdf = open((FilePath.stem) + ' Password Protected.pdf','wb')\n",
    "#print(resultPdf)\n",
    "pdfWriter.write(resultPdf)\n",
    "resultPdf.close() "
   ]
  },
  {
   "cell_type": "code",
   "execution_count": null,
   "metadata": {},
   "outputs": [],
   "source": []
  }
 ],
 "metadata": {
  "kernelspec": {
   "display_name": "Python 3",
   "language": "python",
   "name": "python3"
  },
  "language_info": {
   "codemirror_mode": {
    "name": "ipython",
    "version": 3
   },
   "file_extension": ".py",
   "mimetype": "text/x-python",
   "name": "python",
   "nbconvert_exporter": "python",
   "pygments_lexer": "ipython3",
   "version": "3.8.3"
  }
 },
 "nbformat": 4,
 "nbformat_minor": 4
}
